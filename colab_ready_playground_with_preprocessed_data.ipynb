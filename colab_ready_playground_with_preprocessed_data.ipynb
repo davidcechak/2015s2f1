{
  "cells": [
    {
      "cell_type": "markdown",
      "metadata": {
        "id": "view-in-github",
        "colab_type": "text"
      },
      "source": [
        "<a href=\"https://colab.research.google.com/github/davidcechak/2015s2f1/blob/master/colab_ready_playground_with_preprocessed_data.ipynb\" target=\"_parent\"><img src=\"https://colab.research.google.com/assets/colab-badge.svg\" alt=\"Open In Colab\"/></a>"
      ]
    },
    {
      "cell_type": "code",
      "source": [
        "!pip install torch==2.0.1 torchvision==0.15.2 torchaudio==2.0.2 --index-url https://download.pytorch.org/whl/cu118"
      ],
      "metadata": {
        "colab": {
          "base_uri": "https://localhost:8080/"
        },
        "id": "IL0kQmuWOFMQ",
        "outputId": "57ecaf83-6d7e-4e25-acca-98647b8b05ff"
      },
      "id": "IL0kQmuWOFMQ",
      "execution_count": null,
      "outputs": [
        {
          "output_type": "stream",
          "name": "stdout",
          "text": [
            "Looking in indexes: https://download.pytorch.org/whl/cu118\n",
            "Requirement already satisfied: torch==2.0.1 in /usr/local/lib/python3.10/dist-packages (2.0.1+cu118)\n",
            "Requirement already satisfied: torchvision==0.15.2 in /usr/local/lib/python3.10/dist-packages (0.15.2+cu118)\n",
            "Requirement already satisfied: torchaudio==2.0.2 in /usr/local/lib/python3.10/dist-packages (2.0.2+cu118)\n",
            "Requirement already satisfied: filelock in /usr/local/lib/python3.10/dist-packages (from torch==2.0.1) (3.13.1)\n",
            "Requirement already satisfied: typing-extensions in /usr/local/lib/python3.10/dist-packages (from torch==2.0.1) (4.5.0)\n",
            "Requirement already satisfied: sympy in /usr/local/lib/python3.10/dist-packages (from torch==2.0.1) (1.12)\n",
            "Requirement already satisfied: networkx in /usr/local/lib/python3.10/dist-packages (from torch==2.0.1) (3.2.1)\n",
            "Requirement already satisfied: jinja2 in /usr/local/lib/python3.10/dist-packages (from torch==2.0.1) (3.1.2)\n",
            "Requirement already satisfied: triton==2.0.0 in /usr/local/lib/python3.10/dist-packages (from torch==2.0.1) (2.0.0)\n",
            "Requirement already satisfied: numpy in /usr/local/lib/python3.10/dist-packages (from torchvision==0.15.2) (1.23.5)\n",
            "Requirement already satisfied: requests in /usr/local/lib/python3.10/dist-packages (from torchvision==0.15.2) (2.31.0)\n",
            "Requirement already satisfied: pillow!=8.3.*,>=5.3.0 in /usr/local/lib/python3.10/dist-packages (from torchvision==0.15.2) (9.4.0)\n",
            "Requirement already satisfied: cmake in /usr/local/lib/python3.10/dist-packages (from triton==2.0.0->torch==2.0.1) (3.27.7)\n",
            "Requirement already satisfied: lit in /usr/local/lib/python3.10/dist-packages (from triton==2.0.0->torch==2.0.1) (15.0.7)\n",
            "Requirement already satisfied: MarkupSafe>=2.0 in /usr/local/lib/python3.10/dist-packages (from jinja2->torch==2.0.1) (2.1.3)\n",
            "Requirement already satisfied: charset-normalizer<4,>=2 in /usr/local/lib/python3.10/dist-packages (from requests->torchvision==0.15.2) (3.3.2)\n",
            "Requirement already satisfied: idna<4,>=2.5 in /usr/local/lib/python3.10/dist-packages (from requests->torchvision==0.15.2) (3.4)\n",
            "Requirement already satisfied: urllib3<3,>=1.21.1 in /usr/local/lib/python3.10/dist-packages (from requests->torchvision==0.15.2) (2.0.7)\n",
            "Requirement already satisfied: certifi>=2017.4.17 in /usr/local/lib/python3.10/dist-packages (from requests->torchvision==0.15.2) (2023.7.22)\n",
            "Requirement already satisfied: mpmath>=0.19 in /usr/local/lib/python3.10/dist-packages (from sympy->torch==2.0.1) (1.3.0)\n"
          ]
        }
      ]
    },
    {
      "cell_type": "code",
      "source": [
        "!pip install torchmetrics"
      ],
      "metadata": {
        "colab": {
          "base_uri": "https://localhost:8080/"
        },
        "id": "UT78Z67oObAJ",
        "outputId": "be885b9e-c6be-4bce-8d4e-554a90edccda"
      },
      "id": "UT78Z67oObAJ",
      "execution_count": null,
      "outputs": [
        {
          "output_type": "stream",
          "name": "stdout",
          "text": [
            "Collecting torchmetrics\n",
            "  Using cached torchmetrics-1.2.0-py3-none-any.whl (805 kB)\n",
            "Requirement already satisfied: numpy>1.20.0 in /usr/local/lib/python3.10/dist-packages (from torchmetrics) (1.23.5)\n",
            "Requirement already satisfied: torch>=1.8.1 in /usr/local/lib/python3.10/dist-packages (from torchmetrics) (2.0.1+cu118)\n",
            "Collecting lightning-utilities>=0.8.0 (from torchmetrics)\n",
            "  Using cached lightning_utilities-0.9.0-py3-none-any.whl (23 kB)\n",
            "Requirement already satisfied: packaging>=17.1 in /usr/local/lib/python3.10/dist-packages (from lightning-utilities>=0.8.0->torchmetrics) (23.2)\n",
            "Requirement already satisfied: typing-extensions in /usr/local/lib/python3.10/dist-packages (from lightning-utilities>=0.8.0->torchmetrics) (4.5.0)\n",
            "Requirement already satisfied: filelock in /usr/local/lib/python3.10/dist-packages (from torch>=1.8.1->torchmetrics) (3.13.1)\n",
            "Requirement already satisfied: sympy in /usr/local/lib/python3.10/dist-packages (from torch>=1.8.1->torchmetrics) (1.12)\n",
            "Requirement already satisfied: networkx in /usr/local/lib/python3.10/dist-packages (from torch>=1.8.1->torchmetrics) (3.2.1)\n",
            "Requirement already satisfied: jinja2 in /usr/local/lib/python3.10/dist-packages (from torch>=1.8.1->torchmetrics) (3.1.2)\n",
            "Requirement already satisfied: triton==2.0.0 in /usr/local/lib/python3.10/dist-packages (from torch>=1.8.1->torchmetrics) (2.0.0)\n",
            "Requirement already satisfied: cmake in /usr/local/lib/python3.10/dist-packages (from triton==2.0.0->torch>=1.8.1->torchmetrics) (3.27.7)\n",
            "Requirement already satisfied: lit in /usr/local/lib/python3.10/dist-packages (from triton==2.0.0->torch>=1.8.1->torchmetrics) (15.0.7)\n",
            "Requirement already satisfied: MarkupSafe>=2.0 in /usr/local/lib/python3.10/dist-packages (from jinja2->torch>=1.8.1->torchmetrics) (2.1.3)\n",
            "Requirement already satisfied: mpmath>=0.19 in /usr/local/lib/python3.10/dist-packages (from sympy->torch>=1.8.1->torchmetrics) (1.3.0)\n",
            "Installing collected packages: lightning-utilities, torchmetrics\n",
            "Successfully installed lightning-utilities-0.9.0 torchmetrics-1.2.0\n"
          ]
        }
      ]
    },
    {
      "cell_type": "code",
      "execution_count": 2,
      "id": "cba8e302-e8b2-42eb-886e-738d21d37b08",
      "metadata": {
        "id": "cba8e302-e8b2-42eb-886e-738d21d37b08"
      },
      "outputs": [],
      "source": [
        "# Modules will be reloaded every time a cell is executed\n",
        "%load_ext autoreload\n",
        "%autoreload 2"
      ]
    },
    {
      "cell_type": "code",
      "source": [
        "!git clone https://github.com/ML-Bioinfo-CEITEC/miRNA.git"
      ],
      "metadata": {
        "id": "Fl35ZKHFOUe-",
        "colab": {
          "base_uri": "https://localhost:8080/"
        },
        "outputId": "5dbdf465-7da1-43fa-cbce-3fe284eb83bc"
      },
      "id": "Fl35ZKHFOUe-",
      "execution_count": 1,
      "outputs": [
        {
          "output_type": "stream",
          "name": "stdout",
          "text": [
            "Cloning into 'miRNA'...\n",
            "remote: Enumerating objects: 129, done.\u001b[K\n",
            "remote: Counting objects: 100% (129/129), done.\u001b[K\n",
            "remote: Compressing objects: 100% (96/96), done.\u001b[K\n",
            "remote: Total 129 (delta 51), reused 84 (delta 25), pack-reused 0\u001b[K\n",
            "Receiving objects: 100% (129/129), 30.02 MiB | 20.59 MiB/s, done.\n",
            "Resolving deltas: 100% (51/51), done.\n"
          ]
        }
      ]
    },
    {
      "cell_type": "code",
      "source": [
        "%cd miRNA"
      ],
      "metadata": {
        "colab": {
          "base_uri": "https://localhost:8080/"
        },
        "id": "ON4P4d8hRVUc",
        "outputId": "9789b451-324d-41db-d26c-9e82b85ec915"
      },
      "id": "ON4P4d8hRVUc",
      "execution_count": null,
      "outputs": [
        {
          "output_type": "stream",
          "name": "stdout",
          "text": [
            "/content/miRNA\n"
          ]
        }
      ]
    },
    {
      "cell_type": "markdown",
      "id": "efd4d37e-a980-4214-8739-f2f624eaf5b6",
      "metadata": {
        "id": "efd4d37e-a980-4214-8739-f2f624eaf5b6"
      },
      "source": [
        "### Model training"
      ]
    },
    {
      "cell_type": "code",
      "execution_count": 3,
      "id": "cddce6ff-4dad-4924-8f79-b5bd6e3d1778",
      "metadata": {
        "id": "cddce6ff-4dad-4924-8f79-b5bd6e3d1778"
      },
      "outputs": [],
      "source": [
        "DATASET_NAME = 'mirna_fcs'\n",
        "MIRNA_NAMES = [\n",
        "  'hsa-miR-106b-5p',\n",
        "  'hsa-let-7c-5p',\n",
        "  'hsa-miR-16-5p',\n",
        "]\n",
        "DATA_DIR = 'data'\n",
        "\n",
        "RANDOM_STATE = 42\n",
        "BATCH_SIZE = 32"
      ]
    },
    {
      "cell_type": "code",
      "execution_count": 5,
      "id": "d5f577cd-fbbf-4ccc-af52-73ca3852b55e",
      "metadata": {
        "id": "d5f577cd-fbbf-4ccc-af52-73ca3852b55e"
      },
      "outputs": [],
      "source": [
        "import pandas as pd\n",
        "\n",
        "COLAB_PATH = 'miRNA/'\n",
        "\n",
        "input_dataset_file_path_train = COLAB_PATH + 'data/{}.{}.train.positive_fc_to_zero.signals.compressed_zeros.remove_genes_without_signal.zero_signal_to_negative.normalize.pkl'.format(\n",
        "    DATASET_NAME,\n",
        "    MIRNA_NAMES[0]\n",
        ")\n",
        "df_train = pd.read_pickle(input_dataset_file_path_train)\n",
        "\n",
        "input_dataset_file_path_test = COLAB_PATH + 'data/{}.{}.test.positive_fc_to_zero.signals.compressed_zeros.predict_genes_without_signal.zero_signal_to_negative.normalize.fill_empty_signal.pkl'.format(\n",
        "    DATASET_NAME,\n",
        "    MIRNA_NAMES[0]\n",
        ")\n",
        "df_test = pd.read_pickle(input_dataset_file_path_test)\n",
        "\n",
        "for name in MIRNA_NAMES[1:]:\n",
        "    input_dataset_file_path_train = COLAB_PATH + 'data/{}.{}.train.positive_fc_to_zero.signals.compressed_zeros.remove_genes_without_signal.zero_signal_to_negative.normalize.pkl'.format(\n",
        "        DATASET_NAME,\n",
        "        name\n",
        "    )\n",
        "    df_train = pd.concat(\n",
        "        [df_train, pd.read_pickle(input_dataset_file_path_train)],\n",
        "        axis='index',\n",
        "        ignore_index=True,\n",
        "    )\n",
        "\n",
        "    input_dataset_file_path_test = COLAB_PATH + 'data/{}.{}.test.positive_fc_to_zero.signals.compressed_zeros.predict_genes_without_signal.zero_signal_to_negative.normalize.fill_empty_signal.pkl'.format(\n",
        "        DATASET_NAME,\n",
        "        name\n",
        "    )\n",
        "    df_test = pd.concat(\n",
        "        [df_test, pd.read_pickle(input_dataset_file_path_test)],\n",
        "        axis='index',\n",
        "        ignore_index=True,\n",
        "    )"
      ]
    },
    {
      "cell_type": "markdown",
      "source": [
        "If you want to pad the signals to the length of the longest sequence"
      ],
      "metadata": {
        "id": "5hsowiJLRCU3"
      },
      "id": "5hsowiJLRCU3"
    },
    {
      "cell_type": "code",
      "execution_count": 6,
      "id": "83e19795-7063-4304-b39f-03f6d8d3303e",
      "metadata": {
        "id": "83e19795-7063-4304-b39f-03f6d8d3303e"
      },
      "outputs": [],
      "source": [
        "def pad_2d_array_to_longest_subarray_length(arr, pad_value=0):\n",
        "    # Find the maximum length of sublists\n",
        "    max_len = max(len(sublist) for sublist in arr)\n",
        "\n",
        "    # Pad the sublists to max length\n",
        "    padded_arr = [sublist + [pad_value] * (max_len - len(sublist)) for sublist in arr]\n",
        "\n",
        "    return padded_arr"
      ]
    },
    {
      "cell_type": "code",
      "execution_count": 7,
      "id": "781e56d5-d2a1-47e9-b77e-1e8ad15757a6",
      "metadata": {
        "id": "781e56d5-d2a1-47e9-b77e-1e8ad15757a6"
      },
      "outputs": [],
      "source": [
        "df_train['signal'] = pad_2d_array_to_longest_subarray_length(df_train['signal'])\n",
        "df_test['signal'] = pad_2d_array_to_longest_subarray_length(df_test['signal'])"
      ]
    },
    {
      "cell_type": "code",
      "execution_count": 8,
      "id": "dc30edec-a8d7-4b87-9385-e9021c9dd350",
      "metadata": {
        "id": "dc30edec-a8d7-4b87-9385-e9021c9dd350"
      },
      "outputs": [],
      "source": [
        "from sklearn.model_selection import train_test_split\n",
        "\n",
        "#split validation set\n",
        "df_train, df_val = train_test_split(\n",
        "    df_train,\n",
        "    test_size = 0.1,\n",
        "    random_state = RANDOM_STATE,\n",
        "    shuffle=True\n",
        ")"
      ]
    },
    {
      "cell_type": "code",
      "execution_count": 9,
      "id": "59e339b8-b886-40f6-a51b-dcfaeb42913c",
      "metadata": {
        "id": "59e339b8-b886-40f6-a51b-dcfaeb42913c",
        "outputId": "aab51d93-7313-422d-d043-246b038ad810",
        "colab": {
          "base_uri": "https://localhost:8080/"
        }
      },
      "outputs": [
        {
          "output_type": "stream",
          "name": "stdout",
          "text": [
            "10186 6101 1132\n"
          ]
        }
      ],
      "source": [
        "print(\n",
        "    df_train['gene_symbol'].size,\n",
        "    df_test['gene_symbol'].size,\n",
        "    df_val['gene_symbol'].size,\n",
        ")"
      ]
    },
    {
      "cell_type": "markdown",
      "source": [
        "If you need pytorch dataloader"
      ],
      "metadata": {
        "id": "e2d6OLxMOVEC"
      },
      "id": "e2d6OLxMOVEC"
    },
    {
      "cell_type": "code",
      "execution_count": null,
      "id": "d1cc7b05-a771-4ac9-bf9b-8156fe93db23",
      "metadata": {
        "id": "d1cc7b05-a771-4ac9-bf9b-8156fe93db23"
      },
      "outputs": [],
      "source": [
        "from dataset import get_train_dataloader, get_val_dataloader, get_test_dataloader\n",
        "import torch\n",
        "\n",
        "train_loader = get_train_dataloader([torch.tensor(x) for x in df_train['signal']], df_train['fold_change'].values, BATCH_SIZE)\n",
        "val_loader = get_val_dataloader([torch.tensor(x) for x in df_val['signal']], df_val['fold_change'].values, BATCH_SIZE)\n",
        "test_loader = get_test_dataloader([torch.tensor(x) for x in df_test['signal']], df_test['fold_change'].values, BATCH_SIZE)"
      ]
    },
    {
      "cell_type": "code",
      "source": [],
      "metadata": {
        "id": "kaIA01QiQufV"
      },
      "id": "kaIA01QiQufV",
      "execution_count": null,
      "outputs": []
    }
  ],
  "metadata": {
    "kernelspec": {
      "display_name": "Python 3",
      "name": "python3"
    },
    "language_info": {
      "name": "python"
    },
    "colab": {
      "provenance": [],
      "gpuType": "T4",
      "include_colab_link": true
    },
    "accelerator": "GPU"
  },
  "nbformat": 4,
  "nbformat_minor": 5
}